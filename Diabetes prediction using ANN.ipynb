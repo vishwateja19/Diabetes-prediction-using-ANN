{
 "cells": [
  {
   "cell_type": "code",
   "execution_count": 1,
   "id": "5b3d8967",
   "metadata": {},
   "outputs": [],
   "source": [
    "## Importing packages"
   ]
  },
  {
   "cell_type": "code",
   "execution_count": 2,
   "id": "1c60ba05",
   "metadata": {},
   "outputs": [],
   "source": [
    "\n",
    "import numpy as np\n",
    "import pandas as pd\n",
    "import matplotlib.pyplot as plt"
   ]
  },
  {
   "cell_type": "code",
   "execution_count": 3,
   "id": "83aeee29",
   "metadata": {},
   "outputs": [
    {
     "data": {
      "text/html": [
       "<div>\n",
       "<style scoped>\n",
       "    .dataframe tbody tr th:only-of-type {\n",
       "        vertical-align: middle;\n",
       "    }\n",
       "\n",
       "    .dataframe tbody tr th {\n",
       "        vertical-align: top;\n",
       "    }\n",
       "\n",
       "    .dataframe thead th {\n",
       "        text-align: right;\n",
       "    }\n",
       "</style>\n",
       "<table border=\"1\" class=\"dataframe\">\n",
       "  <thead>\n",
       "    <tr style=\"text-align: right;\">\n",
       "      <th></th>\n",
       "      <th>Pregnancies</th>\n",
       "      <th>Glucose</th>\n",
       "      <th>BloodPressure</th>\n",
       "      <th>SkinThickness</th>\n",
       "      <th>Insulin</th>\n",
       "      <th>BMI</th>\n",
       "      <th>DiabetesPedigreeFunction</th>\n",
       "      <th>Age</th>\n",
       "      <th>Outcome</th>\n",
       "    </tr>\n",
       "  </thead>\n",
       "  <tbody>\n",
       "    <tr>\n",
       "      <th>0</th>\n",
       "      <td>6</td>\n",
       "      <td>148</td>\n",
       "      <td>72</td>\n",
       "      <td>35</td>\n",
       "      <td>0</td>\n",
       "      <td>33.6</td>\n",
       "      <td>0.627</td>\n",
       "      <td>50</td>\n",
       "      <td>1</td>\n",
       "    </tr>\n",
       "    <tr>\n",
       "      <th>1</th>\n",
       "      <td>1</td>\n",
       "      <td>85</td>\n",
       "      <td>66</td>\n",
       "      <td>29</td>\n",
       "      <td>0</td>\n",
       "      <td>26.6</td>\n",
       "      <td>0.351</td>\n",
       "      <td>31</td>\n",
       "      <td>0</td>\n",
       "    </tr>\n",
       "    <tr>\n",
       "      <th>2</th>\n",
       "      <td>8</td>\n",
       "      <td>183</td>\n",
       "      <td>64</td>\n",
       "      <td>0</td>\n",
       "      <td>0</td>\n",
       "      <td>23.3</td>\n",
       "      <td>0.672</td>\n",
       "      <td>32</td>\n",
       "      <td>1</td>\n",
       "    </tr>\n",
       "    <tr>\n",
       "      <th>3</th>\n",
       "      <td>1</td>\n",
       "      <td>89</td>\n",
       "      <td>66</td>\n",
       "      <td>23</td>\n",
       "      <td>94</td>\n",
       "      <td>28.1</td>\n",
       "      <td>0.167</td>\n",
       "      <td>21</td>\n",
       "      <td>0</td>\n",
       "    </tr>\n",
       "    <tr>\n",
       "      <th>4</th>\n",
       "      <td>0</td>\n",
       "      <td>137</td>\n",
       "      <td>40</td>\n",
       "      <td>35</td>\n",
       "      <td>168</td>\n",
       "      <td>43.1</td>\n",
       "      <td>2.288</td>\n",
       "      <td>33</td>\n",
       "      <td>1</td>\n",
       "    </tr>\n",
       "    <tr>\n",
       "      <th>...</th>\n",
       "      <td>...</td>\n",
       "      <td>...</td>\n",
       "      <td>...</td>\n",
       "      <td>...</td>\n",
       "      <td>...</td>\n",
       "      <td>...</td>\n",
       "      <td>...</td>\n",
       "      <td>...</td>\n",
       "      <td>...</td>\n",
       "    </tr>\n",
       "    <tr>\n",
       "      <th>763</th>\n",
       "      <td>10</td>\n",
       "      <td>101</td>\n",
       "      <td>76</td>\n",
       "      <td>48</td>\n",
       "      <td>180</td>\n",
       "      <td>32.9</td>\n",
       "      <td>0.171</td>\n",
       "      <td>63</td>\n",
       "      <td>0</td>\n",
       "    </tr>\n",
       "    <tr>\n",
       "      <th>764</th>\n",
       "      <td>2</td>\n",
       "      <td>122</td>\n",
       "      <td>70</td>\n",
       "      <td>27</td>\n",
       "      <td>0</td>\n",
       "      <td>36.8</td>\n",
       "      <td>0.340</td>\n",
       "      <td>27</td>\n",
       "      <td>0</td>\n",
       "    </tr>\n",
       "    <tr>\n",
       "      <th>765</th>\n",
       "      <td>5</td>\n",
       "      <td>121</td>\n",
       "      <td>72</td>\n",
       "      <td>23</td>\n",
       "      <td>112</td>\n",
       "      <td>26.2</td>\n",
       "      <td>0.245</td>\n",
       "      <td>30</td>\n",
       "      <td>0</td>\n",
       "    </tr>\n",
       "    <tr>\n",
       "      <th>766</th>\n",
       "      <td>1</td>\n",
       "      <td>126</td>\n",
       "      <td>60</td>\n",
       "      <td>0</td>\n",
       "      <td>0</td>\n",
       "      <td>30.1</td>\n",
       "      <td>0.349</td>\n",
       "      <td>47</td>\n",
       "      <td>1</td>\n",
       "    </tr>\n",
       "    <tr>\n",
       "      <th>767</th>\n",
       "      <td>1</td>\n",
       "      <td>93</td>\n",
       "      <td>70</td>\n",
       "      <td>31</td>\n",
       "      <td>0</td>\n",
       "      <td>30.4</td>\n",
       "      <td>0.315</td>\n",
       "      <td>23</td>\n",
       "      <td>0</td>\n",
       "    </tr>\n",
       "  </tbody>\n",
       "</table>\n",
       "<p>768 rows × 9 columns</p>\n",
       "</div>"
      ],
      "text/plain": [
       "     Pregnancies  Glucose  BloodPressure  SkinThickness  Insulin   BMI  \\\n",
       "0              6      148             72             35        0  33.6   \n",
       "1              1       85             66             29        0  26.6   \n",
       "2              8      183             64              0        0  23.3   \n",
       "3              1       89             66             23       94  28.1   \n",
       "4              0      137             40             35      168  43.1   \n",
       "..           ...      ...            ...            ...      ...   ...   \n",
       "763           10      101             76             48      180  32.9   \n",
       "764            2      122             70             27        0  36.8   \n",
       "765            5      121             72             23      112  26.2   \n",
       "766            1      126             60              0        0  30.1   \n",
       "767            1       93             70             31        0  30.4   \n",
       "\n",
       "     DiabetesPedigreeFunction  Age  Outcome  \n",
       "0                       0.627   50        1  \n",
       "1                       0.351   31        0  \n",
       "2                       0.672   32        1  \n",
       "3                       0.167   21        0  \n",
       "4                       2.288   33        1  \n",
       "..                        ...  ...      ...  \n",
       "763                     0.171   63        0  \n",
       "764                     0.340   27        0  \n",
       "765                     0.245   30        0  \n",
       "766                     0.349   47        1  \n",
       "767                     0.315   23        0  \n",
       "\n",
       "[768 rows x 9 columns]"
      ]
     },
     "execution_count": 3,
     "metadata": {},
     "output_type": "execute_result"
    }
   ],
   "source": [
    "df=pd.read_csv('./diabetes.csv')\n",
    "df"
   ]
  },
  {
   "cell_type": "code",
   "execution_count": 4,
   "id": "ddac093e",
   "metadata": {},
   "outputs": [],
   "source": [
    "## Checking null values"
   ]
  },
  {
   "cell_type": "code",
   "execution_count": 5,
   "id": "7346d560",
   "metadata": {},
   "outputs": [
    {
     "data": {
      "text/plain": [
       "Pregnancies                 0\n",
       "Glucose                     0\n",
       "BloodPressure               0\n",
       "SkinThickness               0\n",
       "Insulin                     0\n",
       "BMI                         0\n",
       "DiabetesPedigreeFunction    0\n",
       "Age                         0\n",
       "Outcome                     0\n",
       "dtype: int64"
      ]
     },
     "execution_count": 5,
     "metadata": {},
     "output_type": "execute_result"
    }
   ],
   "source": [
    "df.isnull().sum()"
   ]
  },
  {
   "cell_type": "code",
   "execution_count": 6,
   "id": "36642f08",
   "metadata": {},
   "outputs": [],
   "source": [
    "## Dividing the data into dependent and independent variables"
   ]
  },
  {
   "cell_type": "code",
   "execution_count": 7,
   "id": "060c1e26",
   "metadata": {},
   "outputs": [],
   "source": [
    "x=df.drop(['Outcome'],axis=1)\n",
    "y=df['Outcome']\n"
   ]
  },
  {
   "cell_type": "code",
   "execution_count": 8,
   "id": "23ee9210",
   "metadata": {},
   "outputs": [
    {
     "data": {
      "text/html": [
       "<div>\n",
       "<style scoped>\n",
       "    .dataframe tbody tr th:only-of-type {\n",
       "        vertical-align: middle;\n",
       "    }\n",
       "\n",
       "    .dataframe tbody tr th {\n",
       "        vertical-align: top;\n",
       "    }\n",
       "\n",
       "    .dataframe thead th {\n",
       "        text-align: right;\n",
       "    }\n",
       "</style>\n",
       "<table border=\"1\" class=\"dataframe\">\n",
       "  <thead>\n",
       "    <tr style=\"text-align: right;\">\n",
       "      <th></th>\n",
       "      <th>Pregnancies</th>\n",
       "      <th>Glucose</th>\n",
       "      <th>BloodPressure</th>\n",
       "      <th>SkinThickness</th>\n",
       "      <th>Insulin</th>\n",
       "      <th>BMI</th>\n",
       "      <th>DiabetesPedigreeFunction</th>\n",
       "      <th>Age</th>\n",
       "    </tr>\n",
       "  </thead>\n",
       "  <tbody>\n",
       "    <tr>\n",
       "      <th>0</th>\n",
       "      <td>6</td>\n",
       "      <td>148</td>\n",
       "      <td>72</td>\n",
       "      <td>35</td>\n",
       "      <td>0</td>\n",
       "      <td>33.6</td>\n",
       "      <td>0.627</td>\n",
       "      <td>50</td>\n",
       "    </tr>\n",
       "    <tr>\n",
       "      <th>1</th>\n",
       "      <td>1</td>\n",
       "      <td>85</td>\n",
       "      <td>66</td>\n",
       "      <td>29</td>\n",
       "      <td>0</td>\n",
       "      <td>26.6</td>\n",
       "      <td>0.351</td>\n",
       "      <td>31</td>\n",
       "    </tr>\n",
       "    <tr>\n",
       "      <th>2</th>\n",
       "      <td>8</td>\n",
       "      <td>183</td>\n",
       "      <td>64</td>\n",
       "      <td>0</td>\n",
       "      <td>0</td>\n",
       "      <td>23.3</td>\n",
       "      <td>0.672</td>\n",
       "      <td>32</td>\n",
       "    </tr>\n",
       "    <tr>\n",
       "      <th>3</th>\n",
       "      <td>1</td>\n",
       "      <td>89</td>\n",
       "      <td>66</td>\n",
       "      <td>23</td>\n",
       "      <td>94</td>\n",
       "      <td>28.1</td>\n",
       "      <td>0.167</td>\n",
       "      <td>21</td>\n",
       "    </tr>\n",
       "    <tr>\n",
       "      <th>4</th>\n",
       "      <td>0</td>\n",
       "      <td>137</td>\n",
       "      <td>40</td>\n",
       "      <td>35</td>\n",
       "      <td>168</td>\n",
       "      <td>43.1</td>\n",
       "      <td>2.288</td>\n",
       "      <td>33</td>\n",
       "    </tr>\n",
       "    <tr>\n",
       "      <th>...</th>\n",
       "      <td>...</td>\n",
       "      <td>...</td>\n",
       "      <td>...</td>\n",
       "      <td>...</td>\n",
       "      <td>...</td>\n",
       "      <td>...</td>\n",
       "      <td>...</td>\n",
       "      <td>...</td>\n",
       "    </tr>\n",
       "    <tr>\n",
       "      <th>763</th>\n",
       "      <td>10</td>\n",
       "      <td>101</td>\n",
       "      <td>76</td>\n",
       "      <td>48</td>\n",
       "      <td>180</td>\n",
       "      <td>32.9</td>\n",
       "      <td>0.171</td>\n",
       "      <td>63</td>\n",
       "    </tr>\n",
       "    <tr>\n",
       "      <th>764</th>\n",
       "      <td>2</td>\n",
       "      <td>122</td>\n",
       "      <td>70</td>\n",
       "      <td>27</td>\n",
       "      <td>0</td>\n",
       "      <td>36.8</td>\n",
       "      <td>0.340</td>\n",
       "      <td>27</td>\n",
       "    </tr>\n",
       "    <tr>\n",
       "      <th>765</th>\n",
       "      <td>5</td>\n",
       "      <td>121</td>\n",
       "      <td>72</td>\n",
       "      <td>23</td>\n",
       "      <td>112</td>\n",
       "      <td>26.2</td>\n",
       "      <td>0.245</td>\n",
       "      <td>30</td>\n",
       "    </tr>\n",
       "    <tr>\n",
       "      <th>766</th>\n",
       "      <td>1</td>\n",
       "      <td>126</td>\n",
       "      <td>60</td>\n",
       "      <td>0</td>\n",
       "      <td>0</td>\n",
       "      <td>30.1</td>\n",
       "      <td>0.349</td>\n",
       "      <td>47</td>\n",
       "    </tr>\n",
       "    <tr>\n",
       "      <th>767</th>\n",
       "      <td>1</td>\n",
       "      <td>93</td>\n",
       "      <td>70</td>\n",
       "      <td>31</td>\n",
       "      <td>0</td>\n",
       "      <td>30.4</td>\n",
       "      <td>0.315</td>\n",
       "      <td>23</td>\n",
       "    </tr>\n",
       "  </tbody>\n",
       "</table>\n",
       "<p>768 rows × 8 columns</p>\n",
       "</div>"
      ],
      "text/plain": [
       "     Pregnancies  Glucose  BloodPressure  SkinThickness  Insulin   BMI  \\\n",
       "0              6      148             72             35        0  33.6   \n",
       "1              1       85             66             29        0  26.6   \n",
       "2              8      183             64              0        0  23.3   \n",
       "3              1       89             66             23       94  28.1   \n",
       "4              0      137             40             35      168  43.1   \n",
       "..           ...      ...            ...            ...      ...   ...   \n",
       "763           10      101             76             48      180  32.9   \n",
       "764            2      122             70             27        0  36.8   \n",
       "765            5      121             72             23      112  26.2   \n",
       "766            1      126             60              0        0  30.1   \n",
       "767            1       93             70             31        0  30.4   \n",
       "\n",
       "     DiabetesPedigreeFunction  Age  \n",
       "0                       0.627   50  \n",
       "1                       0.351   31  \n",
       "2                       0.672   32  \n",
       "3                       0.167   21  \n",
       "4                       2.288   33  \n",
       "..                        ...  ...  \n",
       "763                     0.171   63  \n",
       "764                     0.340   27  \n",
       "765                     0.245   30  \n",
       "766                     0.349   47  \n",
       "767                     0.315   23  \n",
       "\n",
       "[768 rows x 8 columns]"
      ]
     },
     "execution_count": 8,
     "metadata": {},
     "output_type": "execute_result"
    }
   ],
   "source": [
    "x"
   ]
  },
  {
   "cell_type": "code",
   "execution_count": 9,
   "id": "1a7f1311",
   "metadata": {},
   "outputs": [
    {
     "data": {
      "text/plain": [
       "0      1\n",
       "1      0\n",
       "2      1\n",
       "3      0\n",
       "4      1\n",
       "      ..\n",
       "763    0\n",
       "764    0\n",
       "765    0\n",
       "766    1\n",
       "767    0\n",
       "Name: Outcome, Length: 768, dtype: int64"
      ]
     },
     "execution_count": 9,
     "metadata": {},
     "output_type": "execute_result"
    }
   ],
   "source": [
    "y"
   ]
  },
  {
   "cell_type": "raw",
   "id": "88891e8a",
   "metadata": {},
   "source": [
    "## splitting data into train and test data"
   ]
  },
  {
   "cell_type": "code",
   "execution_count": 10,
   "id": "bef1a3bf",
   "metadata": {},
   "outputs": [],
   "source": [
    "from sklearn.model_selection import train_test_split"
   ]
  },
  {
   "cell_type": "code",
   "execution_count": 11,
   "id": "4d408ed2",
   "metadata": {},
   "outputs": [],
   "source": [
    "x_train, x_test, y_train, y_test = train_test_split(x, y, test_size=0.33, random_state=42)"
   ]
  },
  {
   "cell_type": "code",
   "execution_count": 12,
   "id": "06064d54",
   "metadata": {},
   "outputs": [
    {
     "data": {
      "text/plain": [
       "514"
      ]
     },
     "execution_count": 12,
     "metadata": {},
     "output_type": "execute_result"
    }
   ],
   "source": [
    "len(x_train)"
   ]
  },
  {
   "cell_type": "code",
   "execution_count": 13,
   "id": "7a9de314",
   "metadata": {},
   "outputs": [
    {
     "data": {
      "text/plain": [
       "254"
      ]
     },
     "execution_count": 13,
     "metadata": {},
     "output_type": "execute_result"
    }
   ],
   "source": [
    "len(x_test)"
   ]
  },
  {
   "cell_type": "code",
   "execution_count": 14,
   "id": "aed9aa3c",
   "metadata": {},
   "outputs": [
    {
     "data": {
      "text/plain": [
       "514"
      ]
     },
     "execution_count": 14,
     "metadata": {},
     "output_type": "execute_result"
    }
   ],
   "source": [
    "len(y_train)\n"
   ]
  },
  {
   "cell_type": "code",
   "execution_count": 15,
   "id": "828286d5",
   "metadata": {},
   "outputs": [
    {
     "data": {
      "text/plain": [
       "254"
      ]
     },
     "execution_count": 15,
     "metadata": {},
     "output_type": "execute_result"
    }
   ],
   "source": [
    "len(y_test)"
   ]
  },
  {
   "cell_type": "markdown",
   "id": "1e2c44ff",
   "metadata": {},
   "source": [
    "## MODEL DEVELOPMENT USING ANN ALGORITHM"
   ]
  },
  {
   "cell_type": "code",
   "execution_count": 16,
   "id": "739454cb",
   "metadata": {},
   "outputs": [],
   "source": [
    "import tensorflow as tf\n",
    "import keras \n",
    "from keras.models import Sequential\n",
    "from keras.layers import Dense\n",
    "from keras.layers import Dropout"
   ]
  },
  {
   "cell_type": "code",
   "execution_count": 17,
   "id": "b3fcc54d",
   "metadata": {},
   "outputs": [],
   "source": [
    "ann=Sequential()"
   ]
  },
  {
   "cell_type": "code",
   "execution_count": 18,
   "id": "6ae8e360",
   "metadata": {},
   "outputs": [],
   "source": [
    "## Input layer "
   ]
  },
  {
   "cell_type": "code",
   "execution_count": 19,
   "id": "20f1e6bb",
   "metadata": {},
   "outputs": [],
   "source": [
    "\n",
    "input_layer=Dense(activation='relu', input_dim=10, kernel_initializer='uniform', units=10)"
   ]
  },
  {
   "cell_type": "code",
   "execution_count": 20,
   "id": "64cbebfa",
   "metadata": {},
   "outputs": [],
   "source": [
    "## Architecture"
   ]
  },
  {
   "cell_type": "code",
   "execution_count": 21,
   "id": "a3f5509f",
   "metadata": {},
   "outputs": [],
   "source": [
    "# hidden layer 1\n",
    "ann.add(Dense(activation='relu', kernel_initializer='uniform', units=1000))\n",
    "\n",
    "\n",
    "## hidden layer 2\n",
    "ann.add(Dense(activation='relu', kernel_initializer='uniform', units=500))\n",
    "\n",
    "\n",
    "## hidden layer 3\n",
    "ann.add(Dense(activation='relu', kernel_initializer='uniform', units=250))\n",
    "\n",
    "## hidden layer 4\n",
    "ann.add(Dense(activation='relu', kernel_initializer='uniform', units=100))\n",
    "\n",
    "## hidden layer 5\n",
    "ann.add(Dense(activation='sigmoid', kernel_initializer='uniform', units=1))"
   ]
  },
  {
   "cell_type": "code",
   "execution_count": 22,
   "id": "9e4e0606",
   "metadata": {},
   "outputs": [],
   "source": [
    "# Compile ANN\n",
    "ann.compile(optimizer='adam', loss='binary_crossentropy', metrics=['accuracy'])"
   ]
  },
  {
   "cell_type": "code",
   "execution_count": 23,
   "id": "e1025fe4",
   "metadata": {
    "scrolled": false
   },
   "outputs": [
    {
     "name": "stderr",
     "output_type": "stream",
     "text": [
      "C:\\Users\\vishwateja\\anaconda3\\envs\\lig\\lib\\site-packages\\keras\\engine\\data_adapter.py:1699: FutureWarning: The behavior of `series[i:j]` with an integer-dtype index is deprecated. In a future version, this will be treated as *label-based* indexing, consistent with e.g. `series[i]` lookups. To retain the old behavior, use `series.iloc[i:j]`. To get the future behavior, use `series.loc[i:j]`.\n",
      "  return t[start:end]\n"
     ]
    },
    {
     "name": "stdout",
     "output_type": "stream",
     "text": [
      "Epoch 1/100\n",
      "47/47 [==============================] - 4s 27ms/step - loss: 0.7052 - accuracy: 0.6061 - val_loss: 0.6952 - val_accuracy: 0.5962\n",
      "Epoch 2/100\n",
      "47/47 [==============================] - 0s 10ms/step - loss: 0.6758 - accuracy: 0.6537 - val_loss: 0.6699 - val_accuracy: 0.5962\n",
      "Epoch 3/100\n",
      "47/47 [==============================] - 1s 12ms/step - loss: 0.6429 - accuracy: 0.6472 - val_loss: 0.8105 - val_accuracy: 0.6346\n",
      "Epoch 4/100\n",
      "47/47 [==============================] - 1s 13ms/step - loss: 0.6501 - accuracy: 0.6450 - val_loss: 0.6859 - val_accuracy: 0.5962\n",
      "Epoch 5/100\n",
      "47/47 [==============================] - 1s 15ms/step - loss: 0.6428 - accuracy: 0.6623 - val_loss: 0.6452 - val_accuracy: 0.6538\n",
      "Epoch 6/100\n",
      "47/47 [==============================] - 1s 14ms/step - loss: 0.6356 - accuracy: 0.6645 - val_loss: 0.6232 - val_accuracy: 0.7500\n",
      "Epoch 7/100\n",
      "47/47 [==============================] - 1s 13ms/step - loss: 0.6035 - accuracy: 0.6861 - val_loss: 0.6498 - val_accuracy: 0.5962\n",
      "Epoch 8/100\n",
      "47/47 [==============================] - 1s 14ms/step - loss: 0.6046 - accuracy: 0.6818 - val_loss: 0.6727 - val_accuracy: 0.5769\n",
      "Epoch 9/100\n",
      "47/47 [==============================] - 1s 11ms/step - loss: 0.6179 - accuracy: 0.6818 - val_loss: 0.6638 - val_accuracy: 0.6154\n",
      "Epoch 10/100\n",
      "47/47 [==============================] - 1s 12ms/step - loss: 0.6003 - accuracy: 0.6775 - val_loss: 0.7222 - val_accuracy: 0.5962\n",
      "Epoch 11/100\n",
      "47/47 [==============================] - 1s 13ms/step - loss: 0.6030 - accuracy: 0.6991 - val_loss: 0.6062 - val_accuracy: 0.6731\n",
      "Epoch 12/100\n",
      "47/47 [==============================] - 1s 13ms/step - loss: 0.5943 - accuracy: 0.6905 - val_loss: 0.6406 - val_accuracy: 0.6538\n",
      "Epoch 13/100\n",
      "47/47 [==============================] - 1s 14ms/step - loss: 0.5931 - accuracy: 0.7078 - val_loss: 0.6186 - val_accuracy: 0.6346\n",
      "Epoch 14/100\n",
      "47/47 [==============================] - 1s 13ms/step - loss: 0.5825 - accuracy: 0.6970 - val_loss: 0.6678 - val_accuracy: 0.6346\n",
      "Epoch 15/100\n",
      "47/47 [==============================] - 1s 11ms/step - loss: 0.5799 - accuracy: 0.7165 - val_loss: 0.6375 - val_accuracy: 0.5577\n",
      "Epoch 16/100\n",
      "47/47 [==============================] - 1s 11ms/step - loss: 0.5911 - accuracy: 0.7035 - val_loss: 0.6310 - val_accuracy: 0.6154\n",
      "Epoch 17/100\n",
      "47/47 [==============================] - 1s 12ms/step - loss: 0.5799 - accuracy: 0.7013 - val_loss: 0.5954 - val_accuracy: 0.6731\n",
      "Epoch 18/100\n",
      "47/47 [==============================] - 0s 10ms/step - loss: 0.5853 - accuracy: 0.7100 - val_loss: 0.6394 - val_accuracy: 0.6731\n",
      "Epoch 19/100\n",
      "47/47 [==============================] - 0s 10ms/step - loss: 0.5920 - accuracy: 0.6775 - val_loss: 0.6112 - val_accuracy: 0.6731\n",
      "Epoch 20/100\n",
      "47/47 [==============================] - 1s 13ms/step - loss: 0.5874 - accuracy: 0.6861 - val_loss: 0.6100 - val_accuracy: 0.6154\n",
      "Epoch 21/100\n",
      "47/47 [==============================] - 1s 12ms/step - loss: 0.5773 - accuracy: 0.7143 - val_loss: 0.5781 - val_accuracy: 0.6923\n",
      "Epoch 22/100\n",
      "47/47 [==============================] - 1s 11ms/step - loss: 0.5685 - accuracy: 0.7035 - val_loss: 0.6106 - val_accuracy: 0.5962\n",
      "Epoch 23/100\n",
      "47/47 [==============================] - 0s 11ms/step - loss: 0.5650 - accuracy: 0.6818 - val_loss: 0.6404 - val_accuracy: 0.5962\n",
      "Epoch 24/100\n",
      "47/47 [==============================] - 0s 10ms/step - loss: 0.5726 - accuracy: 0.6970 - val_loss: 0.6008 - val_accuracy: 0.6731\n",
      "Epoch 25/100\n",
      "47/47 [==============================] - 0s 9ms/step - loss: 0.5815 - accuracy: 0.7208 - val_loss: 0.6107 - val_accuracy: 0.6923\n",
      "Epoch 26/100\n",
      "47/47 [==============================] - 0s 10ms/step - loss: 0.5544 - accuracy: 0.7165 - val_loss: 0.6315 - val_accuracy: 0.6731\n",
      "Epoch 27/100\n",
      "47/47 [==============================] - 0s 10ms/step - loss: 0.5476 - accuracy: 0.7251 - val_loss: 0.7205 - val_accuracy: 0.6731\n",
      "Epoch 28/100\n",
      "47/47 [==============================] - 1s 11ms/step - loss: 0.5476 - accuracy: 0.7294 - val_loss: 0.5850 - val_accuracy: 0.6731\n",
      "Epoch 29/100\n",
      "47/47 [==============================] - 1s 11ms/step - loss: 0.5523 - accuracy: 0.7273 - val_loss: 0.5920 - val_accuracy: 0.6538\n",
      "Epoch 30/100\n",
      "47/47 [==============================] - 0s 10ms/step - loss: 0.5558 - accuracy: 0.7208 - val_loss: 0.5745 - val_accuracy: 0.6731\n",
      "Epoch 31/100\n",
      "47/47 [==============================] - 1s 11ms/step - loss: 0.5350 - accuracy: 0.7316 - val_loss: 0.5880 - val_accuracy: 0.6346\n",
      "Epoch 32/100\n",
      "47/47 [==============================] - 1s 11ms/step - loss: 0.5639 - accuracy: 0.6926 - val_loss: 0.6304 - val_accuracy: 0.6538\n",
      "Epoch 33/100\n",
      "47/47 [==============================] - 1s 13ms/step - loss: 0.5700 - accuracy: 0.6840 - val_loss: 0.5581 - val_accuracy: 0.7308\n",
      "Epoch 34/100\n",
      "47/47 [==============================] - 1s 13ms/step - loss: 0.5484 - accuracy: 0.7229 - val_loss: 0.5963 - val_accuracy: 0.6538\n",
      "Epoch 35/100\n",
      "47/47 [==============================] - 1s 12ms/step - loss: 0.5388 - accuracy: 0.7229 - val_loss: 0.5575 - val_accuracy: 0.6154\n",
      "Epoch 36/100\n",
      "47/47 [==============================] - 1s 12ms/step - loss: 0.5432 - accuracy: 0.7229 - val_loss: 0.6160 - val_accuracy: 0.6538\n",
      "Epoch 37/100\n",
      "47/47 [==============================] - 1s 12ms/step - loss: 0.5425 - accuracy: 0.7078 - val_loss: 0.5619 - val_accuracy: 0.6923\n",
      "Epoch 38/100\n",
      "47/47 [==============================] - 1s 12ms/step - loss: 0.5332 - accuracy: 0.7338 - val_loss: 0.5732 - val_accuracy: 0.6538\n",
      "Epoch 39/100\n",
      "47/47 [==============================] - 1s 14ms/step - loss: 0.5375 - accuracy: 0.7468 - val_loss: 0.6163 - val_accuracy: 0.6538\n",
      "Epoch 40/100\n",
      "47/47 [==============================] - 1s 13ms/step - loss: 0.5286 - accuracy: 0.7143 - val_loss: 0.5683 - val_accuracy: 0.7115\n",
      "Epoch 41/100\n",
      "47/47 [==============================] - 1s 11ms/step - loss: 0.5135 - accuracy: 0.7208 - val_loss: 0.6024 - val_accuracy: 0.6538\n",
      "Epoch 42/100\n",
      "47/47 [==============================] - 1s 11ms/step - loss: 0.5125 - accuracy: 0.7338 - val_loss: 0.5598 - val_accuracy: 0.6923\n",
      "Epoch 43/100\n",
      "47/47 [==============================] - 0s 10ms/step - loss: 0.5524 - accuracy: 0.7143 - val_loss: 0.5704 - val_accuracy: 0.7308\n",
      "Epoch 44/100\n",
      "47/47 [==============================] - 0s 10ms/step - loss: 0.5094 - accuracy: 0.7403 - val_loss: 0.5821 - val_accuracy: 0.6538\n",
      "Epoch 45/100\n",
      "47/47 [==============================] - 0s 10ms/step - loss: 0.5336 - accuracy: 0.7403 - val_loss: 0.5540 - val_accuracy: 0.6923\n",
      "Epoch 46/100\n",
      "47/47 [==============================] - 0s 10ms/step - loss: 0.5236 - accuracy: 0.7208 - val_loss: 0.5833 - val_accuracy: 0.6731\n",
      "Epoch 47/100\n",
      "47/47 [==============================] - 0s 10ms/step - loss: 0.5252 - accuracy: 0.7403 - val_loss: 0.5496 - val_accuracy: 0.6923\n",
      "Epoch 48/100\n",
      "47/47 [==============================] - 0s 10ms/step - loss: 0.5200 - accuracy: 0.7294 - val_loss: 0.5559 - val_accuracy: 0.6731\n",
      "Epoch 49/100\n",
      "47/47 [==============================] - 1s 11ms/step - loss: 0.5055 - accuracy: 0.7424 - val_loss: 0.5601 - val_accuracy: 0.6731\n",
      "Epoch 50/100\n",
      "47/47 [==============================] - 1s 13ms/step - loss: 0.4965 - accuracy: 0.7381 - val_loss: 0.6330 - val_accuracy: 0.6923\n",
      "Epoch 51/100\n",
      "47/47 [==============================] - 1s 13ms/step - loss: 0.4966 - accuracy: 0.7446 - val_loss: 0.5742 - val_accuracy: 0.6154\n",
      "Epoch 52/100\n",
      "47/47 [==============================] - 1s 13ms/step - loss: 0.5742 - accuracy: 0.7121 - val_loss: 0.5708 - val_accuracy: 0.6538\n",
      "Epoch 53/100\n",
      "47/47 [==============================] - 1s 13ms/step - loss: 0.5336 - accuracy: 0.7554 - val_loss: 0.5236 - val_accuracy: 0.7500\n",
      "Epoch 54/100\n",
      "47/47 [==============================] - 1s 13ms/step - loss: 0.5106 - accuracy: 0.7424 - val_loss: 0.5288 - val_accuracy: 0.7115\n",
      "Epoch 55/100\n",
      "47/47 [==============================] - 1s 13ms/step - loss: 0.5239 - accuracy: 0.7381 - val_loss: 0.5432 - val_accuracy: 0.7308\n",
      "Epoch 56/100\n",
      "47/47 [==============================] - 1s 13ms/step - loss: 0.5227 - accuracy: 0.7381 - val_loss: 0.5607 - val_accuracy: 0.7308\n",
      "Epoch 57/100\n",
      "47/47 [==============================] - 1s 15ms/step - loss: 0.5239 - accuracy: 0.7294 - val_loss: 0.5333 - val_accuracy: 0.6538\n",
      "Epoch 58/100\n"
     ]
    },
    {
     "name": "stdout",
     "output_type": "stream",
     "text": [
      "47/47 [==============================] - 0s 11ms/step - loss: 0.5030 - accuracy: 0.7208 - val_loss: 0.5580 - val_accuracy: 0.6731\n",
      "Epoch 59/100\n",
      "47/47 [==============================] - 1s 12ms/step - loss: 0.5057 - accuracy: 0.7511 - val_loss: 0.5845 - val_accuracy: 0.5962\n",
      "Epoch 60/100\n",
      "47/47 [==============================] - 1s 11ms/step - loss: 0.5050 - accuracy: 0.7532 - val_loss: 0.5431 - val_accuracy: 0.6923\n",
      "Epoch 61/100\n",
      "47/47 [==============================] - 1s 12ms/step - loss: 0.4943 - accuracy: 0.7446 - val_loss: 0.5430 - val_accuracy: 0.6731\n",
      "Epoch 62/100\n",
      "47/47 [==============================] - 1s 17ms/step - loss: 0.5208 - accuracy: 0.7576 - val_loss: 0.5765 - val_accuracy: 0.6731\n",
      "Epoch 63/100\n",
      "47/47 [==============================] - 1s 18ms/step - loss: 0.4885 - accuracy: 0.7424 - val_loss: 0.5663 - val_accuracy: 0.6923\n",
      "Epoch 64/100\n",
      "47/47 [==============================] - 1s 11ms/step - loss: 0.4937 - accuracy: 0.7597 - val_loss: 0.5565 - val_accuracy: 0.6538\n",
      "Epoch 65/100\n",
      "47/47 [==============================] - 1s 11ms/step - loss: 0.4821 - accuracy: 0.7511 - val_loss: 0.5777 - val_accuracy: 0.6538\n",
      "Epoch 66/100\n",
      "47/47 [==============================] - 1s 11ms/step - loss: 0.5014 - accuracy: 0.7511 - val_loss: 0.5013 - val_accuracy: 0.6731\n",
      "Epoch 67/100\n",
      "47/47 [==============================] - 1s 11ms/step - loss: 0.4846 - accuracy: 0.7554 - val_loss: 0.5606 - val_accuracy: 0.6731\n",
      "Epoch 68/100\n",
      "47/47 [==============================] - 1s 11ms/step - loss: 0.4857 - accuracy: 0.7792 - val_loss: 0.5585 - val_accuracy: 0.6731\n",
      "Epoch 69/100\n",
      "47/47 [==============================] - 1s 12ms/step - loss: 0.4929 - accuracy: 0.7489 - val_loss: 0.5138 - val_accuracy: 0.7308\n",
      "Epoch 70/100\n",
      "47/47 [==============================] - 1s 12ms/step - loss: 0.4733 - accuracy: 0.7597 - val_loss: 0.5577 - val_accuracy: 0.6731\n",
      "Epoch 71/100\n",
      "47/47 [==============================] - 1s 13ms/step - loss: 0.4614 - accuracy: 0.7684 - val_loss: 0.4969 - val_accuracy: 0.8077\n",
      "Epoch 72/100\n",
      "47/47 [==============================] - 1s 12ms/step - loss: 0.4591 - accuracy: 0.7619 - val_loss: 0.6349 - val_accuracy: 0.6923\n",
      "Epoch 73/100\n",
      "47/47 [==============================] - 1s 13ms/step - loss: 0.4888 - accuracy: 0.7446 - val_loss: 0.5559 - val_accuracy: 0.6923\n",
      "Epoch 74/100\n",
      "47/47 [==============================] - 0s 11ms/step - loss: 0.4546 - accuracy: 0.7706 - val_loss: 0.6173 - val_accuracy: 0.6731\n",
      "Epoch 75/100\n",
      "47/47 [==============================] - 0s 9ms/step - loss: 0.4714 - accuracy: 0.7727 - val_loss: 0.5228 - val_accuracy: 0.7500\n",
      "Epoch 76/100\n",
      "47/47 [==============================] - 0s 9ms/step - loss: 0.5193 - accuracy: 0.7597 - val_loss: 0.5395 - val_accuracy: 0.6731\n",
      "Epoch 77/100\n",
      "47/47 [==============================] - 0s 10ms/step - loss: 0.4796 - accuracy: 0.7511 - val_loss: 0.5281 - val_accuracy: 0.6731\n",
      "Epoch 78/100\n",
      "47/47 [==============================] - 0s 9ms/step - loss: 0.4643 - accuracy: 0.7576 - val_loss: 0.5816 - val_accuracy: 0.7308\n",
      "Epoch 79/100\n",
      "47/47 [==============================] - 0s 9ms/step - loss: 0.4595 - accuracy: 0.7532 - val_loss: 0.5624 - val_accuracy: 0.6538\n",
      "Epoch 80/100\n",
      "47/47 [==============================] - 1s 11ms/step - loss: 0.4588 - accuracy: 0.7619 - val_loss: 0.6406 - val_accuracy: 0.7115\n",
      "Epoch 81/100\n",
      "47/47 [==============================] - 0s 10ms/step - loss: 0.4907 - accuracy: 0.7468 - val_loss: 0.5931 - val_accuracy: 0.7115\n",
      "Epoch 82/100\n",
      "47/47 [==============================] - 1s 13ms/step - loss: 0.4705 - accuracy: 0.7597 - val_loss: 0.5627 - val_accuracy: 0.6538\n",
      "Epoch 83/100\n",
      "47/47 [==============================] - 0s 10ms/step - loss: 0.4535 - accuracy: 0.7814 - val_loss: 0.6143 - val_accuracy: 0.6923\n",
      "Epoch 84/100\n",
      "47/47 [==============================] - 0s 10ms/step - loss: 0.4456 - accuracy: 0.7662 - val_loss: 0.6855 - val_accuracy: 0.6538\n",
      "Epoch 85/100\n",
      "47/47 [==============================] - 0s 9ms/step - loss: 0.4481 - accuracy: 0.7619 - val_loss: 0.5530 - val_accuracy: 0.7308\n",
      "Epoch 86/100\n",
      "47/47 [==============================] - 0s 9ms/step - loss: 0.4498 - accuracy: 0.7965 - val_loss: 0.6482 - val_accuracy: 0.7115\n",
      "Epoch 87/100\n",
      "47/47 [==============================] - 0s 9ms/step - loss: 0.4501 - accuracy: 0.7835 - val_loss: 0.7403 - val_accuracy: 0.6731\n",
      "Epoch 88/100\n",
      "47/47 [==============================] - 0s 9ms/step - loss: 0.4531 - accuracy: 0.7597 - val_loss: 0.5797 - val_accuracy: 0.6346\n",
      "Epoch 89/100\n",
      "47/47 [==============================] - 0s 9ms/step - loss: 0.4602 - accuracy: 0.7619 - val_loss: 0.5804 - val_accuracy: 0.6923\n",
      "Epoch 90/100\n",
      "47/47 [==============================] - 0s 9ms/step - loss: 0.4391 - accuracy: 0.7597 - val_loss: 0.5998 - val_accuracy: 0.6538\n",
      "Epoch 91/100\n",
      "47/47 [==============================] - 0s 9ms/step - loss: 0.4089 - accuracy: 0.7879 - val_loss: 0.6125 - val_accuracy: 0.6346\n",
      "Epoch 92/100\n",
      "47/47 [==============================] - 0s 9ms/step - loss: 0.4308 - accuracy: 0.8030 - val_loss: 0.5529 - val_accuracy: 0.6923\n",
      "Epoch 93/100\n",
      "47/47 [==============================] - 0s 9ms/step - loss: 0.4577 - accuracy: 0.7749 - val_loss: 0.6228 - val_accuracy: 0.6731\n",
      "Epoch 94/100\n",
      "47/47 [==============================] - 0s 9ms/step - loss: 0.4147 - accuracy: 0.7749 - val_loss: 0.8004 - val_accuracy: 0.6538\n",
      "Epoch 95/100\n",
      "47/47 [==============================] - 0s 9ms/step - loss: 0.4094 - accuracy: 0.7900 - val_loss: 0.6404 - val_accuracy: 0.6923\n",
      "Epoch 96/100\n",
      "47/47 [==============================] - 0s 9ms/step - loss: 0.4441 - accuracy: 0.7814 - val_loss: 0.6710 - val_accuracy: 0.7115\n",
      "Epoch 97/100\n",
      "47/47 [==============================] - 0s 9ms/step - loss: 0.4344 - accuracy: 0.7814 - val_loss: 0.7422 - val_accuracy: 0.6731\n",
      "Epoch 98/100\n",
      "47/47 [==============================] - 0s 9ms/step - loss: 0.4157 - accuracy: 0.7857 - val_loss: 0.6562 - val_accuracy: 0.6538\n",
      "Epoch 99/100\n",
      "47/47 [==============================] - 0s 9ms/step - loss: 0.3938 - accuracy: 0.7922 - val_loss: 0.7682 - val_accuracy: 0.6538\n",
      "Epoch 100/100\n",
      "47/47 [==============================] - 0s 9ms/step - loss: 0.4145 - accuracy: 0.7792 - val_loss: 0.7226 - val_accuracy: 0.6346\n"
     ]
    }
   ],
   "source": [
    "reg=ann.fit(x_train, y_train, validation_split=0.1, batch_size=10, epochs=100)"
   ]
  },
  {
   "cell_type": "code",
   "execution_count": 25,
   "id": "64a9f4c5",
   "metadata": {},
   "outputs": [
    {
     "name": "stdout",
     "output_type": "stream",
     "text": [
      "8/8 [==============================] - 0s 6ms/step\n"
     ]
    }
   ],
   "source": [
    "y_pred = ann.predict(x_test)\n",
    "y_pred = y_pred > 0.5"
   ]
  },
  {
   "cell_type": "code",
   "execution_count": 26,
   "id": "61e0048e",
   "metadata": {},
   "outputs": [],
   "source": [
    "from sklearn.metrics import confusion_matrix,accuracy_score,classification_report"
   ]
  },
  {
   "cell_type": "code",
   "execution_count": 34,
   "id": "44f9c0ab",
   "metadata": {},
   "outputs": [
    {
     "data": {
      "text/plain": [
       "array([[141,  27],\n",
       "       [ 50,  36]], dtype=int64)"
      ]
     },
     "execution_count": 34,
     "metadata": {},
     "output_type": "execute_result"
    }
   ],
   "source": [
    "confusion_matrix(y_test,y_pred)"
   ]
  },
  {
   "cell_type": "code",
   "execution_count": 35,
   "id": "abd5824e",
   "metadata": {},
   "outputs": [
    {
     "name": "stdout",
     "output_type": "stream",
     "text": [
      "              precision    recall  f1-score   support\n",
      "\n",
      "           0       0.74      0.84      0.79       168\n",
      "           1       0.57      0.42      0.48        86\n",
      "\n",
      "    accuracy                           0.70       254\n",
      "   macro avg       0.65      0.63      0.63       254\n",
      "weighted avg       0.68      0.70      0.68       254\n",
      "\n"
     ]
    }
   ],
   "source": [
    "print(classification_report(y_test,y_pred))"
   ]
  },
  {
   "cell_type": "code",
   "execution_count": 36,
   "id": "82232794",
   "metadata": {},
   "outputs": [
    {
     "data": {
      "text/plain": [
       "0.6968503937007874"
      ]
     },
     "execution_count": 36,
     "metadata": {},
     "output_type": "execute_result"
    }
   ],
   "source": [
    "accuracy_score(y_test,y_pred)"
   ]
  },
  {
   "cell_type": "code",
   "execution_count": null,
   "id": "dc849277",
   "metadata": {},
   "outputs": [],
   "source": []
  }
 ],
 "metadata": {
  "kernelspec": {
   "display_name": "Python 3 (ipykernel)",
   "language": "python",
   "name": "python3"
  },
  "language_info": {
   "codemirror_mode": {
    "name": "ipython",
    "version": 3
   },
   "file_extension": ".py",
   "mimetype": "text/x-python",
   "name": "python",
   "nbconvert_exporter": "python",
   "pygments_lexer": "ipython3",
   "version": "3.9.15"
  }
 },
 "nbformat": 4,
 "nbformat_minor": 5
}
